{
 "cells": [
  {
   "cell_type": "markdown",
   "id": "a7d005bd",
   "metadata": {},
   "source": [
    "#### Question 1"
   ]
  },
  {
   "cell_type": "code",
   "execution_count": 5,
   "id": "474c1e6a",
   "metadata": {},
   "outputs": [
    {
     "name": "stdout",
     "output_type": "stream",
     "text": [
      "Accuracy Score: 32.30769230769231\n",
      "\n",
      "\n",
      "               precision    recall  f1-score   support\n",
      "\n",
      "           1       0.36      0.15      0.21        27\n",
      "           2       0.22      0.12      0.16        16\n",
      "           3       0.07      0.67      0.12         3\n",
      "           5       0.00      0.00      0.00         6\n",
      "           6       1.00      1.00      1.00         3\n",
      "           7       0.77      1.00      0.87        10\n",
      "\n",
      "    accuracy                           0.32        65\n",
      "   macro avg       0.40      0.49      0.39        65\n",
      "weighted avg       0.37      0.32      0.31        65\n",
      "\n"
     ]
    },
    {
     "name": "stderr",
     "output_type": "stream",
     "text": [
      "C:\\Users\\HP\\anaconda3\\lib\\site-packages\\sklearn\\metrics\\_classification.py:1248: UndefinedMetricWarning: Precision and F-score are ill-defined and being set to 0.0 in labels with no predicted samples. Use `zero_division` parameter to control this behavior.\n",
      "  _warn_prf(average, modifier, msg_start, len(result))\n",
      "C:\\Users\\HP\\anaconda3\\lib\\site-packages\\sklearn\\metrics\\_classification.py:1248: UndefinedMetricWarning: Precision and F-score are ill-defined and being set to 0.0 in labels with no predicted samples. Use `zero_division` parameter to control this behavior.\n",
      "  _warn_prf(average, modifier, msg_start, len(result))\n",
      "C:\\Users\\HP\\anaconda3\\lib\\site-packages\\sklearn\\metrics\\_classification.py:1248: UndefinedMetricWarning: Precision and F-score are ill-defined and being set to 0.0 in labels with no predicted samples. Use `zero_division` parameter to control this behavior.\n",
      "  _warn_prf(average, modifier, msg_start, len(result))\n"
     ]
    }
   ],
   "source": [
    "import pandas as pd\n",
    "from sklearn.model_selection import train_test_split\n",
    "from sklearn.naive_bayes import GaussianNB\n",
    "from sklearn.metrics import accuracy_score, classification_report\n",
    "glass = pd.read_csv('NNDL_Code and Data/glass.csv')\n",
    "x = glass.drop('Type', axis=1)\n",
    "y = glass['Type']\n",
    "x_train, x_test, y_train, y_test = train_test_split(x,y,test_size = 0.3)\n",
    "model = GaussianNB()\n",
    "model.fit(x_train, y_train)\n",
    "y_pred = model.predict(x_test)\n",
    "accuracy = accuracy_score(y_test,y_pred)*100\n",
    "report = classification_report(y_test,y_pred)\n",
    "print('Accuracy Score:',accuracy)\n",
    "print('\\n\\n',report)"
   ]
  },
  {
   "cell_type": "markdown",
   "id": "7e94ee2d",
   "metadata": {},
   "source": [
    "#### Question 2"
   ]
  },
  {
   "cell_type": "code",
   "execution_count": 6,
   "id": "33a0c1e4",
   "metadata": {},
   "outputs": [
    {
     "name": "stdout",
     "output_type": "stream",
     "text": [
      "Accuracy Score: 55.38461538461539\n",
      "\n",
      "\n",
      "               precision    recall  f1-score   support\n",
      "\n",
      "           1       0.52      1.00      0.68        27\n",
      "           2       0.00      0.00      0.00        16\n",
      "           3       0.00      0.00      0.00         3\n",
      "           5       0.00      0.00      0.00         6\n",
      "           6       0.00      0.00      0.00         3\n",
      "           7       0.69      0.90      0.78        10\n",
      "\n",
      "    accuracy                           0.55        65\n",
      "   macro avg       0.20      0.32      0.24        65\n",
      "weighted avg       0.32      0.55      0.40        65\n",
      "\n"
     ]
    },
    {
     "name": "stderr",
     "output_type": "stream",
     "text": [
      "C:\\Users\\HP\\anaconda3\\lib\\site-packages\\sklearn\\svm\\_base.py:985: ConvergenceWarning: Liblinear failed to converge, increase the number of iterations.\n",
      "  warnings.warn(\"Liblinear failed to converge, increase \"\n",
      "C:\\Users\\HP\\anaconda3\\lib\\site-packages\\sklearn\\metrics\\_classification.py:1248: UndefinedMetricWarning: Precision and F-score are ill-defined and being set to 0.0 in labels with no predicted samples. Use `zero_division` parameter to control this behavior.\n",
      "  _warn_prf(average, modifier, msg_start, len(result))\n",
      "C:\\Users\\HP\\anaconda3\\lib\\site-packages\\sklearn\\metrics\\_classification.py:1248: UndefinedMetricWarning: Precision and F-score are ill-defined and being set to 0.0 in labels with no predicted samples. Use `zero_division` parameter to control this behavior.\n",
      "  _warn_prf(average, modifier, msg_start, len(result))\n",
      "C:\\Users\\HP\\anaconda3\\lib\\site-packages\\sklearn\\metrics\\_classification.py:1248: UndefinedMetricWarning: Precision and F-score are ill-defined and being set to 0.0 in labels with no predicted samples. Use `zero_division` parameter to control this behavior.\n",
      "  _warn_prf(average, modifier, msg_start, len(result))\n"
     ]
    }
   ],
   "source": [
    "from sklearn.svm import LinearSVC\n",
    "svc = LinearSVC()\n",
    "svc.fit(x_train,y_train)\n",
    "y_predict = svc.predict(x_test)\n",
    "acc = accuracy_score(y_test,y_predict)*100\n",
    "summary = classification_report(y_test,y_predict)\n",
    "print('Accuracy Score:',acc)\n",
    "print('\\n\\n',summary)"
   ]
  },
  {
   "cell_type": "raw",
   "id": "0be8e045",
   "metadata": {},
   "source": [
    "In most of the cases, SVM is performing better than Naive Bayes classification as we can see from the above results. The Naive Bayes considers each feature as independent one whereas SVM works good with non-linear data as it makes a radial based hyperplane for classification."
   ]
  }
 ],
 "metadata": {
  "kernelspec": {
   "display_name": "Python 3 (ipykernel)",
   "language": "python",
   "name": "python3"
  },
  "language_info": {
   "codemirror_mode": {
    "name": "ipython",
    "version": 3
   },
   "file_extension": ".py",
   "mimetype": "text/x-python",
   "name": "python",
   "nbconvert_exporter": "python",
   "pygments_lexer": "ipython3",
   "version": "3.9.7"
  }
 },
 "nbformat": 4,
 "nbformat_minor": 5
}
